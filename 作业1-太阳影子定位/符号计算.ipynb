{
 "cells": [
  {
   "cell_type": "code",
   "execution_count": 27,
   "metadata": {},
   "outputs": [
    {
     "data": {
      "text/latex": [
       "$\\displaystyle \\left(\\left(- \\left(\\sin{\\left(\\delta \\right)} \\sin{\\left(\\phi \\right)} + \\sin{\\left(\\lambda \\right)} \\cos{\\left(\\delta \\right)} \\cos{\\left(\\phi \\right)}\\right) \\sin{\\left(\\theta_{0} \\right)} + \\cos{\\left(\\lambda \\right)} \\cos{\\left(\\phi \\right)} \\cos{\\left(\\theta_{0} \\right)}\\right) \\cos{\\left(\\frac{2 \\pi \\left(- c + t\\right)}{p_{1}} \\right)} + \\left(\\left(\\left(\\sin{\\left(\\delta \\right)} \\sin{\\left(\\lambda \\right)} \\cos{\\left(\\phi \\right)} - \\sin{\\left(\\phi \\right)} \\cos{\\left(\\delta \\right)}\\right) \\left(\\cos{\\left(\\theta_{0} \\right)} - 1\\right) \\sin{\\left(\\delta \\right)} - \\sin{\\left(\\lambda \\right)} \\cos{\\left(\\phi \\right)} \\cos{\\left(\\theta_{0} \\right)} - \\sin{\\left(\\theta_{0} \\right)} \\cos{\\left(\\delta \\right)} \\cos{\\left(\\lambda \\right)} \\cos{\\left(\\phi \\right)}\\right) \\cos{\\left(\\delta \\right)} - \\left(\\left(\\sin{\\left(\\delta \\right)} \\sin{\\left(\\lambda \\right)} \\cos{\\left(\\phi \\right)} - \\sin{\\left(\\phi \\right)} \\cos{\\left(\\delta \\right)}\\right) \\left(\\cos{\\left(\\theta_{0} \\right)} - 1\\right) \\cos{\\left(\\delta \\right)} + \\sin{\\left(\\delta \\right)} \\sin{\\left(\\theta_{0} \\right)} \\cos{\\left(\\lambda \\right)} \\cos{\\left(\\phi \\right)} + \\sin{\\left(\\phi \\right)} \\cos{\\left(\\theta_{0} \\right)}\\right) \\sin{\\left(\\delta \\right)}\\right) \\sin{\\left(\\frac{2 \\pi \\left(- c + t\\right)}{p_{1}} \\right)}\\right)\\mathbf{\\hat{i}_{S}} + \\left(- \\left(1 - \\cos{\\left(\\frac{2 \\pi \\left(- c + t\\right)}{p_{1}} \\right)}\\right) \\left(- \\left(- \\left(\\sin{\\left(\\delta \\right)} \\sin{\\left(\\lambda \\right)} \\cos{\\left(\\phi \\right)} - \\sin{\\left(\\phi \\right)} \\cos{\\left(\\delta \\right)}\\right) \\left(\\cos{\\left(\\theta_{0} \\right)} - 1\\right) \\sin{\\left(\\delta \\right)} + \\sin{\\left(\\lambda \\right)} \\cos{\\left(\\phi \\right)} \\cos{\\left(\\theta_{0} \\right)} + \\sin{\\left(\\theta_{0} \\right)} \\cos{\\left(\\delta \\right)} \\cos{\\left(\\lambda \\right)} \\cos{\\left(\\phi \\right)}\\right) \\sin{\\left(\\delta \\right)} + \\left(\\left(\\sin{\\left(\\delta \\right)} \\sin{\\left(\\lambda \\right)} \\cos{\\left(\\phi \\right)} - \\sin{\\left(\\phi \\right)} \\cos{\\left(\\delta \\right)}\\right) \\left(\\cos{\\left(\\theta_{0} \\right)} - 1\\right) \\cos{\\left(\\delta \\right)} + \\sin{\\left(\\delta \\right)} \\sin{\\left(\\theta_{0} \\right)} \\cos{\\left(\\lambda \\right)} \\cos{\\left(\\phi \\right)} + \\sin{\\left(\\phi \\right)} \\cos{\\left(\\theta_{0} \\right)}\\right) \\cos{\\left(\\delta \\right)}\\right) \\sin{\\left(\\delta \\right)} + \\left(- \\left(\\sin{\\left(\\delta \\right)} \\sin{\\left(\\phi \\right)} + \\sin{\\left(\\lambda \\right)} \\cos{\\left(\\delta \\right)} \\cos{\\left(\\phi \\right)}\\right) \\sin{\\left(\\theta_{0} \\right)} + \\cos{\\left(\\lambda \\right)} \\cos{\\left(\\phi \\right)} \\cos{\\left(\\theta_{0} \\right)}\\right) \\sin{\\left(\\frac{2 \\pi \\left(- c + t\\right)}{p_{1}} \\right)} \\cos{\\left(\\delta \\right)} + \\left(- \\left(\\sin{\\left(\\delta \\right)} \\sin{\\left(\\lambda \\right)} \\cos{\\left(\\phi \\right)} - \\sin{\\left(\\phi \\right)} \\cos{\\left(\\delta \\right)}\\right) \\left(\\cos{\\left(\\theta_{0} \\right)} - 1\\right) \\sin{\\left(\\delta \\right)} + \\sin{\\left(\\lambda \\right)} \\cos{\\left(\\phi \\right)} \\cos{\\left(\\theta_{0} \\right)} + \\sin{\\left(\\theta_{0} \\right)} \\cos{\\left(\\delta \\right)} \\cos{\\left(\\lambda \\right)} \\cos{\\left(\\phi \\right)}\\right) \\cos{\\left(\\frac{2 \\pi \\left(- c + t\\right)}{p_{1}} \\right)}\\right)\\mathbf{\\hat{j}_{S}} + \\left(\\left(1 - \\cos{\\left(\\frac{2 \\pi \\left(- c + t\\right)}{p_{1}} \\right)}\\right) \\left(- \\left(- \\left(\\sin{\\left(\\delta \\right)} \\sin{\\left(\\lambda \\right)} \\cos{\\left(\\phi \\right)} - \\sin{\\left(\\phi \\right)} \\cos{\\left(\\delta \\right)}\\right) \\left(\\cos{\\left(\\theta_{0} \\right)} - 1\\right) \\sin{\\left(\\delta \\right)} + \\sin{\\left(\\lambda \\right)} \\cos{\\left(\\phi \\right)} \\cos{\\left(\\theta_{0} \\right)} + \\sin{\\left(\\theta_{0} \\right)} \\cos{\\left(\\delta \\right)} \\cos{\\left(\\lambda \\right)} \\cos{\\left(\\phi \\right)}\\right) \\sin{\\left(\\delta \\right)} + \\left(\\left(\\sin{\\left(\\delta \\right)} \\sin{\\left(\\lambda \\right)} \\cos{\\left(\\phi \\right)} - \\sin{\\left(\\phi \\right)} \\cos{\\left(\\delta \\right)}\\right) \\left(\\cos{\\left(\\theta_{0} \\right)} - 1\\right) \\cos{\\left(\\delta \\right)} + \\sin{\\left(\\delta \\right)} \\sin{\\left(\\theta_{0} \\right)} \\cos{\\left(\\lambda \\right)} \\cos{\\left(\\phi \\right)} + \\sin{\\left(\\phi \\right)} \\cos{\\left(\\theta_{0} \\right)}\\right) \\cos{\\left(\\delta \\right)}\\right) \\cos{\\left(\\delta \\right)} - \\left(\\left(\\sin{\\left(\\delta \\right)} \\sin{\\left(\\phi \\right)} + \\sin{\\left(\\lambda \\right)} \\cos{\\left(\\delta \\right)} \\cos{\\left(\\phi \\right)}\\right) \\sin{\\left(\\theta_{0} \\right)} - \\cos{\\left(\\lambda \\right)} \\cos{\\left(\\phi \\right)} \\cos{\\left(\\theta_{0} \\right)}\\right) \\sin{\\left(\\delta \\right)} \\sin{\\left(\\frac{2 \\pi \\left(- c + t\\right)}{p_{1}} \\right)} + \\left(\\left(\\sin{\\left(\\delta \\right)} \\sin{\\left(\\lambda \\right)} \\cos{\\left(\\phi \\right)} - \\sin{\\left(\\phi \\right)} \\cos{\\left(\\delta \\right)}\\right) \\left(\\cos{\\left(\\theta_{0} \\right)} - 1\\right) \\cos{\\left(\\delta \\right)} + \\sin{\\left(\\delta \\right)} \\sin{\\left(\\theta_{0} \\right)} \\cos{\\left(\\lambda \\right)} \\cos{\\left(\\phi \\right)} + \\sin{\\left(\\phi \\right)} \\cos{\\left(\\theta_{0} \\right)}\\right) \\cos{\\left(\\frac{2 \\pi \\left(- c + t\\right)}{p_{1}} \\right)}\\right)\\mathbf{\\hat{k}_{S}}$"
      ],
      "text/plain": [
       "((-(sin(delta)*sin(phi) + sin(lambda)*cos(delta)*cos(phi))*sin(theta_0) + cos(lambda)*cos(phi)*cos(theta_0))*cos(2*pi*(-c + t)/p1) + (((sin(delta)*sin(lambda)*cos(phi) - sin(phi)*cos(delta))*(cos(theta_0) - 1)*sin(delta) - sin(lambda)*cos(phi)*cos(theta_0) - sin(theta_0)*cos(delta)*cos(lambda)*cos(phi))*cos(delta) - ((sin(delta)*sin(lambda)*cos(phi) - sin(phi)*cos(delta))*(cos(theta_0) - 1)*cos(delta) + sin(delta)*sin(theta_0)*cos(lambda)*cos(phi) + sin(phi)*cos(theta_0))*sin(delta))*sin(2*pi*(-c + t)/p1))*S.i + (-(1 - cos(2*pi*(-c + t)/p1))*(-(-(sin(delta)*sin(lambda)*cos(phi) - sin(phi)*cos(delta))*(cos(theta_0) - 1)*sin(delta) + sin(lambda)*cos(phi)*cos(theta_0) + sin(theta_0)*cos(delta)*cos(lambda)*cos(phi))*sin(delta) + ((sin(delta)*sin(lambda)*cos(phi) - sin(phi)*cos(delta))*(cos(theta_0) - 1)*cos(delta) + sin(delta)*sin(theta_0)*cos(lambda)*cos(phi) + sin(phi)*cos(theta_0))*cos(delta))*sin(delta) + (-(sin(delta)*sin(phi) + sin(lambda)*cos(delta)*cos(phi))*sin(theta_0) + cos(lambda)*cos(phi)*cos(theta_0))*sin(2*pi*(-c + t)/p1)*cos(delta) + (-(sin(delta)*sin(lambda)*cos(phi) - sin(phi)*cos(delta))*(cos(theta_0) - 1)*sin(delta) + sin(lambda)*cos(phi)*cos(theta_0) + sin(theta_0)*cos(delta)*cos(lambda)*cos(phi))*cos(2*pi*(-c + t)/p1))*S.j + ((1 - cos(2*pi*(-c + t)/p1))*(-(-(sin(delta)*sin(lambda)*cos(phi) - sin(phi)*cos(delta))*(cos(theta_0) - 1)*sin(delta) + sin(lambda)*cos(phi)*cos(theta_0) + sin(theta_0)*cos(delta)*cos(lambda)*cos(phi))*sin(delta) + ((sin(delta)*sin(lambda)*cos(phi) - sin(phi)*cos(delta))*(cos(theta_0) - 1)*cos(delta) + sin(delta)*sin(theta_0)*cos(lambda)*cos(phi) + sin(phi)*cos(theta_0))*cos(delta))*cos(delta) - ((sin(delta)*sin(phi) + sin(lambda)*cos(delta)*cos(phi))*sin(theta_0) - cos(lambda)*cos(phi)*cos(theta_0))*sin(delta)*sin(2*pi*(-c + t)/p1) + ((sin(delta)*sin(lambda)*cos(phi) - sin(phi)*cos(delta))*(cos(theta_0) - 1)*cos(delta) + sin(delta)*sin(theta_0)*cos(lambda)*cos(phi) + sin(phi)*cos(theta_0))*cos(2*pi*(-c + t)/p1))*S.k"
      ]
     },
     "execution_count": 27,
     "metadata": {},
     "output_type": "execute_result"
    }
   ],
   "source": [
    "import sympy as sp\n",
    "import sympy.vector as sv\n",
    "from datetime import datetime, UTC\n",
    "\n",
    "def rotate(v, axis, angle):\n",
    "    return v * sp.cos(angle) + (axis ^ v) * sp.sin(angle) + axis * (axis & v) * (1 - sp.cos(angle))\n",
    "\n",
    "# 春分_2015 = datetime.fromisoformat(\"2015-03-20 22:45\").astimezone(UTC).timestamp()\n",
    "# 地球自转周期 = 86164.09054\n",
    "\n",
    "S = sv.CoordSys3D('S')\n",
    "i, j, k = S.base_vectors()\n",
    "\n",
    "春分_2015 = sp.symbols('c')\n",
    "地球自转周期 = sp.symbols('p1')\n",
    "地球公转周期 = sp.symbols('p2')\n",
    "太阳日 = sp.symbols('太阳日')\n",
    "long, lat = sp.symbols('lambda phi')\n",
    "t = sp.symbols('t')\n",
    "delta = sp.symbols('delta')\n",
    "theta = sp.symbols('theta')\n",
    "theta_0 = sp.symbols('theta_0')\n",
    "\n",
    "EN = 0 * i + -sp.sin(delta) * j + sp.cos(delta) * k\n",
    "EF0 = rotate(i, EN, theta_0).simplify()\n",
    "已过回归年 = (t - 春分_2015) / 地球公转周期\n",
    "SN = sp.cos(2 * sp.pi * 已过回归年) * i + sp.sin(2 * sp.pi * 已过回归年) * j\n",
    "\n",
    "已过恒星日 = (t - 春分_2015) / 地球自转周期\n",
    "\n",
    "\n",
    "v0 = (sp.cos(long) * i + sp.sin(long) * j) * sp.cos(lat) + k * sp.sin(lat)\n",
    "v0 = rotate(v0, EN, theta_0).simplify()\n",
    "v = rotate(v0, EN, 2 * sp.pi * 已过恒星日)\n",
    "v\n"
   ]
  }
 ],
 "metadata": {
  "kernelspec": {
   "display_name": "Python 3",
   "language": "python",
   "name": "python3"
  },
  "language_info": {
   "codemirror_mode": {
    "name": "ipython",
    "version": 3
   },
   "file_extension": ".py",
   "mimetype": "text/x-python",
   "name": "python",
   "nbconvert_exporter": "python",
   "pygments_lexer": "ipython3",
   "version": "3.12.0"
  }
 },
 "nbformat": 4,
 "nbformat_minor": 2
}
